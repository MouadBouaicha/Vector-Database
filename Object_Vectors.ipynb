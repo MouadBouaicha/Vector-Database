{
 "cells": [
  {
   "cell_type": "code",
   "execution_count": 1,
   "metadata": {},
   "outputs": [
    {
     "name": "stdout",
     "output_type": "stream",
     "text": [
      "<class 'list'> 10\n",
      "{\n",
      "  \"Category\": \"SCIENCE\",\n",
      "  \"Question\": \"This organ removes excess glucose from the blood & stores it as glycogen\",\n",
      "  \"Answer\": \"Liver\"\n",
      "}\n"
     ]
    }
   ],
   "source": [
    "import requests\n",
    "import json\n",
    "\n",
    "# Download the data\n",
    "resp = requests.get('https://raw.githubusercontent.com/weaviate-tutorials/quickstart/main/data/jeopardy_tiny.json')\n",
    "data = json.loads(resp.text)  # Load data\n",
    "\n",
    "# Parse the JSON and preview it\n",
    "print(type(data), len(data))\n",
    "\n",
    "def json_print(data):\n",
    "    print(json.dumps(data, indent=2))\n",
    "\n",
    "json_print(data[0])"
   ]
  },
  {
   "cell_type": "code",
   "execution_count": 4,
   "metadata": {},
   "outputs": [
    {
     "name": "stderr",
     "output_type": "stream",
     "text": [
      "c:\\Users\\Mouad\\anaconda3\\envs\\DS\\Lib\\site-packages\\weaviate\\warnings.py:158: DeprecationWarning: Dep016: You are using the Weaviate v3 client, which is deprecated.\n",
      "            Consider upgrading to the new and improved v4 client instead!\n",
      "            See here for usage: https://weaviate.io/developers/weaviate/client-libraries/python\n",
      "            \n",
      "  warnings.warn(\n"
     ]
    },
    {
     "ename": "WeaviateStartUpError",
     "evalue": "Windows is not supported with Embedded. Please upvote this feature request if you want this: https://github.com/weaviate/weaviate/issues/3315",
     "output_type": "error",
     "traceback": [
      "\u001b[1;31m---------------------------------------------------------------------------\u001b[0m",
      "\u001b[1;31mWeaviateStartUpError\u001b[0m                      Traceback (most recent call last)",
      "Cell \u001b[1;32mIn[4], line 9\u001b[0m\n\u001b[0;32m      5\u001b[0m OPENAI_API_KEY \u001b[38;5;241m=\u001b[39m \u001b[38;5;124m\"\u001b[39m\u001b[38;5;124msk-eq32EqBt2TOc76nTT7Xvt4f2JGLhl1N4uLS7h92dwhs5cD8Y\u001b[39m\u001b[38;5;124m\"\u001b[39m\n\u001b[0;32m      7\u001b[0m openai\u001b[38;5;241m.\u001b[39mapi_key \u001b[38;5;241m=\u001b[39m OPENAI_API_KEY\n\u001b[1;32m----> 9\u001b[0m client \u001b[38;5;241m=\u001b[39m \u001b[43mweaviate\u001b[49m\u001b[38;5;241;43m.\u001b[39;49m\u001b[43mClient\u001b[49m\u001b[43m(\u001b[49m\n\u001b[0;32m     10\u001b[0m \u001b[43m    \u001b[49m\u001b[43membedded_options\u001b[49m\u001b[38;5;241;43m=\u001b[39;49m\u001b[43mweaviate\u001b[49m\u001b[38;5;241;43m.\u001b[39;49m\u001b[43mEmbeddedOptions\u001b[49m\u001b[43m(\u001b[49m\u001b[43m)\u001b[49m\u001b[43m,\u001b[49m\n\u001b[0;32m     11\u001b[0m \u001b[43m    \u001b[49m\u001b[43madditional_headers\u001b[49m\u001b[38;5;241;43m=\u001b[39;49m\u001b[43m{\u001b[49m\n\u001b[0;32m     12\u001b[0m \u001b[43m        \u001b[49m\u001b[38;5;124;43m\"\u001b[39;49m\u001b[38;5;124;43mX-OpenAI-Api-Key\u001b[39;49m\u001b[38;5;124;43m\"\u001b[39;49m\u001b[43m:\u001b[49m\u001b[43m \u001b[49m\u001b[43mopenai\u001b[49m\u001b[38;5;241;43m.\u001b[39;49m\u001b[43mapi_key\u001b[49m\u001b[43m  \u001b[49m\u001b[38;5;66;43;03m# Replace this with your actual key\u001b[39;49;00m\n\u001b[0;32m     13\u001b[0m \u001b[43m    \u001b[49m\u001b[43m}\u001b[49m\n\u001b[0;32m     14\u001b[0m \u001b[43m)\u001b[49m\n\u001b[0;32m     15\u001b[0m \u001b[38;5;28mprint\u001b[39m(\u001b[38;5;124mf\u001b[39m\u001b[38;5;124m\"\u001b[39m\u001b[38;5;124mClient created? \u001b[39m\u001b[38;5;132;01m{\u001b[39;00mclient\u001b[38;5;241m.\u001b[39mis_ready()\u001b[38;5;132;01m}\u001b[39;00m\u001b[38;5;124m\"\u001b[39m)\n",
      "File \u001b[1;32mc:\\Users\\Mouad\\anaconda3\\envs\\DS\\Lib\\site-packages\\weaviate\\client.py:439\u001b[0m, in \u001b[0;36mClient.__init__\u001b[1;34m(self, url, auth_client_secret, timeout_config, proxies, trust_env, additional_headers, startup_period, embedded_options, additional_config)\u001b[0m\n\u001b[0;32m    436\u001b[0m _Warnings\u001b[38;5;241m.\u001b[39mweaviate_v3_client_is_deprecated()\n\u001b[0;32m    438\u001b[0m config \u001b[38;5;241m=\u001b[39m Config() \u001b[38;5;28;01mif\u001b[39;00m additional_config \u001b[38;5;129;01mis\u001b[39;00m \u001b[38;5;28;01mNone\u001b[39;00m \u001b[38;5;28;01melse\u001b[39;00m additional_config\n\u001b[1;32m--> 439\u001b[0m url, embedded_db \u001b[38;5;241m=\u001b[39m \u001b[38;5;28;43mself\u001b[39;49m\u001b[38;5;241;43m.\u001b[39;49m\u001b[43m__parse_url_and_embedded_db\u001b[49m\u001b[43m(\u001b[49m\u001b[43murl\u001b[49m\u001b[43m,\u001b[49m\u001b[43m \u001b[49m\u001b[43membedded_options\u001b[49m\u001b[43m)\u001b[49m\n\u001b[0;32m    441\u001b[0m \u001b[38;5;28mself\u001b[39m\u001b[38;5;241m.\u001b[39m_connection \u001b[38;5;241m=\u001b[39m Connection(\n\u001b[0;32m    442\u001b[0m     url\u001b[38;5;241m=\u001b[39murl,\n\u001b[0;32m    443\u001b[0m     auth_client_secret\u001b[38;5;241m=\u001b[39mauth_client_secret,\n\u001b[1;32m   (...)\u001b[0m\n\u001b[0;32m    451\u001b[0m     connection_config\u001b[38;5;241m=\u001b[39mconfig\u001b[38;5;241m.\u001b[39mconnection_config,\n\u001b[0;32m    452\u001b[0m )\n\u001b[0;32m    453\u001b[0m \u001b[38;5;28mself\u001b[39m\u001b[38;5;241m.\u001b[39mclassification \u001b[38;5;241m=\u001b[39m Classification(\u001b[38;5;28mself\u001b[39m\u001b[38;5;241m.\u001b[39m_connection)\n",
      "File \u001b[1;32mc:\\Users\\Mouad\\anaconda3\\envs\\DS\\Lib\\site-packages\\weaviate\\client.py:473\u001b[0m, in \u001b[0;36mClient.__parse_url_and_embedded_db\u001b[1;34m(self, url, embedded_options)\u001b[0m\n\u001b[0;32m    468\u001b[0m     \u001b[38;5;28;01mraise\u001b[39;00m \u001b[38;5;167;01mTypeError\u001b[39;00m(\n\u001b[0;32m    469\u001b[0m         \u001b[38;5;124mf\u001b[39m\u001b[38;5;124m\"\u001b[39m\u001b[38;5;124mURL is not expected to be set when using embedded_options but URL was \u001b[39m\u001b[38;5;132;01m{\u001b[39;00murl\u001b[38;5;132;01m}\u001b[39;00m\u001b[38;5;124m\"\u001b[39m\n\u001b[0;32m    470\u001b[0m     )\n\u001b[0;32m    472\u001b[0m \u001b[38;5;28;01mif\u001b[39;00m embedded_options \u001b[38;5;129;01mis\u001b[39;00m \u001b[38;5;129;01mnot\u001b[39;00m \u001b[38;5;28;01mNone\u001b[39;00m:\n\u001b[1;32m--> 473\u001b[0m     embedded_db \u001b[38;5;241m=\u001b[39m \u001b[43mEmbeddedV3\u001b[49m\u001b[43m(\u001b[49m\u001b[43moptions\u001b[49m\u001b[38;5;241;43m=\u001b[39;49m\u001b[43membedded_options\u001b[49m\u001b[43m)\u001b[49m\n\u001b[0;32m    474\u001b[0m     embedded_db\u001b[38;5;241m.\u001b[39mstart()\n\u001b[0;32m    475\u001b[0m     \u001b[38;5;28;01mreturn\u001b[39;00m \u001b[38;5;124mf\u001b[39m\u001b[38;5;124m\"\u001b[39m\u001b[38;5;124mhttp://localhost:\u001b[39m\u001b[38;5;132;01m{\u001b[39;00membedded_db\u001b[38;5;241m.\u001b[39moptions\u001b[38;5;241m.\u001b[39mport\u001b[38;5;132;01m}\u001b[39;00m\u001b[38;5;124m\"\u001b[39m, embedded_db\n",
      "File \u001b[1;32mc:\\Users\\Mouad\\anaconda3\\envs\\DS\\Lib\\site-packages\\weaviate\\embedded.py:59\u001b[0m, in \u001b[0;36m_EmbeddedBase.__init__\u001b[1;34m(self, options)\u001b[0m\n\u001b[0;32m     57\u001b[0m \u001b[38;5;28mself\u001b[39m\u001b[38;5;241m.\u001b[39mprocess: Optional[subprocess\u001b[38;5;241m.\u001b[39mPopen[\u001b[38;5;28mbytes\u001b[39m]] \u001b[38;5;241m=\u001b[39m \u001b[38;5;28;01mNone\u001b[39;00m\n\u001b[0;32m     58\u001b[0m \u001b[38;5;28mself\u001b[39m\u001b[38;5;241m.\u001b[39mensure_paths_exist()\n\u001b[1;32m---> 59\u001b[0m \u001b[38;5;28;43mself\u001b[39;49m\u001b[38;5;241;43m.\u001b[39;49m\u001b[43mcheck_supported_platform\u001b[49m\u001b[43m(\u001b[49m\u001b[43m)\u001b[49m\n\u001b[0;32m     60\u001b[0m \u001b[38;5;28mself\u001b[39m\u001b[38;5;241m.\u001b[39m_parsed_weaviate_version \u001b[38;5;241m=\u001b[39m \u001b[38;5;124m\"\u001b[39m\u001b[38;5;124m\"\u001b[39m\n\u001b[0;32m     61\u001b[0m \u001b[38;5;66;03m# regular expression to detect a version number: v[one digit].[1-2 digits].[1-2 digits]\u001b[39;00m\n\u001b[0;32m     62\u001b[0m \u001b[38;5;66;03m# optionally there can be a \"-rc/alpha/beta.[1-2 digits]\"\u001b[39;00m\n\u001b[0;32m     63\u001b[0m \u001b[38;5;66;03m# nothing in front or back\u001b[39;00m\n",
      "File \u001b[1;32mc:\\Users\\Mouad\\anaconda3\\envs\\DS\\Lib\\site-packages\\weaviate\\embedded.py:177\u001b[0m, in \u001b[0;36m_EmbeddedBase.check_supported_platform\u001b[1;34m()\u001b[0m\n\u001b[0;32m    174\u001b[0m \u001b[38;5;129m@staticmethod\u001b[39m\n\u001b[0;32m    175\u001b[0m \u001b[38;5;28;01mdef\u001b[39;00m \u001b[38;5;21mcheck_supported_platform\u001b[39m() \u001b[38;5;241m-\u001b[39m\u001b[38;5;241m>\u001b[39m \u001b[38;5;28;01mNone\u001b[39;00m:\n\u001b[0;32m    176\u001b[0m     \u001b[38;5;28;01mif\u001b[39;00m platform\u001b[38;5;241m.\u001b[39msystem() \u001b[38;5;129;01min\u001b[39;00m [\u001b[38;5;124m\"\u001b[39m\u001b[38;5;124mWindows\u001b[39m\u001b[38;5;124m\"\u001b[39m]:\n\u001b[1;32m--> 177\u001b[0m         \u001b[38;5;28;01mraise\u001b[39;00m WeaviateStartUpError(\n\u001b[0;32m    178\u001b[0m             \u001b[38;5;124mf\u001b[39m\u001b[38;5;124m\"\u001b[39m\u001b[38;5;132;01m{\u001b[39;00mplatform\u001b[38;5;241m.\u001b[39msystem()\u001b[38;5;132;01m}\u001b[39;00m\u001b[38;5;124m is not supported with Embedded. Please upvote this feature request if \u001b[39m\u001b[38;5;124m\"\u001b[39m\n\u001b[0;32m    179\u001b[0m             \u001b[38;5;124mf\u001b[39m\u001b[38;5;124m\"\u001b[39m\u001b[38;5;124myou want this: https://github.com/weaviate/weaviate/issues/3315\u001b[39m\u001b[38;5;124m\"\u001b[39m\n\u001b[0;32m    180\u001b[0m         )\n",
      "\u001b[1;31mWeaviateStartUpError\u001b[0m: Windows is not supported with Embedded. Please upvote this feature request if you want this: https://github.com/weaviate/weaviate/issues/3315"
     ]
    }
   ],
   "source": [
    "import weaviate\n",
    "import os\n",
    "import openai\n",
    "\n",
    "OPENAI_API_KEY = \"sk-eq32EqBt2TOc76nTT7Xvt4f2JGLhl1N4uLS7h92dwhs5cD8Y\"\n",
    "\n",
    "openai.api_key = OPENAI_API_KEY\n",
    "\n",
    "client = weaviate.Client(\n",
    "    embedded_options=weaviate.EmbeddedOptions(),\n",
    "    additional_headers={\n",
    "        \"X-OpenAI-Api-Key\": openai.api_key  # Replace this with your actual key\n",
    "    }\n",
    ")\n",
    "print(f\"Client created? {client.is_ready()}\")\n"
   ]
  }
 ],
 "metadata": {
  "kernelspec": {
   "display_name": "DS",
   "language": "python",
   "name": "python3"
  },
  "language_info": {
   "codemirror_mode": {
    "name": "ipython",
    "version": 3
   },
   "file_extension": ".py",
   "mimetype": "text/x-python",
   "name": "python",
   "nbconvert_exporter": "python",
   "pygments_lexer": "ipython3",
   "version": "3.11.3"
  }
 },
 "nbformat": 4,
 "nbformat_minor": 2
}
